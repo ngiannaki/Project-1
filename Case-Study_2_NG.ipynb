{
 "cells": [
  {
   "cell_type": "markdown",
   "metadata": {},
   "source": [
    "# Case Study 2\n",
    "\n",
    "Nikos Giannakis"
   ]
  },
  {
   "cell_type": "code",
   "execution_count": 1,
   "metadata": {},
   "outputs": [
    {
     "name": "stdout",
     "output_type": "stream",
     "text": [
      "Dataset's first 5 lines\n",
      "          customer_email  net_revenue  year\n",
      "0   nhknapwsbx@gmail.com       249.92  2015\n",
      "1   joiuzbvcpn@gmail.com        87.61  2015\n",
      "2   ukkjctepxt@gmail.com       168.38  2015\n",
      "3   gykatilzrt@gmail.com        62.40  2015\n",
      "4   mmsgsrtxah@gmail.com        43.08  2015\n"
     ]
    }
   ],
   "source": [
    "import pandas as pd\n",
    "import numpy as np\n",
    "import matplotlib.pyplot as plt\n",
    "import seaborn as sns\n",
    "df = pd.read_csv('casestudy.csv')\n",
    "df = df.drop(columns='Unnamed: 0')\n",
    "print(\"Dataset's first 5 lines\")\n",
    "print(df.head())\n"
   ]
  },
  {
   "cell_type": "code",
   "execution_count": 177,
   "metadata": {},
   "outputs": [
    {
     "name": "stdout",
     "output_type": "stream",
     "text": [
      "Dataset's shape: (685927, 3)\n"
     ]
    }
   ],
   "source": [
    "print(f\"Dataset's shape: {df.shape}\")"
   ]
  },
  {
   "cell_type": "code",
   "execution_count": 2,
   "metadata": {},
   "outputs": [
    {
     "name": "stdout",
     "output_type": "stream",
     "text": [
      "How many lines per year has the dataset? \n",
      "year\trows\n",
      "2017    249987\n",
      "2015    231294\n",
      "2016    204646\n",
      "Name: year, dtype: int64\n"
     ]
    }
   ],
   "source": [
    "print(f\"How many lines per year has the dataset? \\nyear\\trows\\n{df['year'].value_counts()}\")"
   ]
  },
  {
   "cell_type": "markdown",
   "metadata": {},
   "source": [
    "For each year we need the following information:\n",
    "\n",
    "• 1\tTotal revenue for the current year\n",
    "\n",
    "• 2\tNew Customer Revenue e.g. new customers not present in previous year only\n",
    "\n",
    "• 3\tExisting Customer Growth. To calculate this, use the Revenue of existing customers for current year –(minus) Revenue of existing customers from the previous year\n",
    "\n",
    "• 4\tRevenue lost from attrition\n",
    "\n",
    "• 5\tExisting Customer Revenue Current Year\n",
    "\n",
    "• 6\tExisting Customer Revenue Prior Year\n",
    "\n",
    "• 7\tTotal Customers Current Year\n",
    "\n",
    "• 8\tTotal Customers Previous Year\n",
    "\n",
    "• 9\tNew Customers\n",
    "\n",
    "• 10 Lost Customers\n"
   ]
  },
  {
   "cell_type": "markdown",
   "metadata": {},
   "source": [
    "## 1 Total revenue for the current year"
   ]
  },
  {
   "cell_type": "code",
   "execution_count": 3,
   "metadata": {},
   "outputs": [
    {
     "name": "stdout",
     "output_type": "stream",
     "text": [
      "Total net revenue for each year \n",
      "year\n",
      "2015    29036749.19\n",
      "2016    25730943.59\n",
      "2017    31417495.03\n",
      "Name: net_revenue, dtype: float64\n"
     ]
    }
   ],
   "source": [
    "print(\"Total net revenue for each year \")\n",
    "print(df.groupby('year')['net_revenue'].sum())"
   ]
  },
  {
   "cell_type": "code",
   "execution_count": 4,
   "metadata": {},
   "outputs": [
    {
     "data": {
      "image/png": "[encoded data removed]",
      "text/plain": [
       "<Figure size 432x288 with 1 Axes>"
      ]
     },
     "metadata": {},
     "output_type": "display_data"
    }
   ],
   "source": [
    "plt.pie(df.groupby('year')['net_revenue'].sum(), labels=['2015', '2016', '2017'],explode =(0,0,0.1), autopct='%1.1f%%')\n",
    "plt.title(\"Total net revenue per year\", fontsize=16)\n",
    "plt.show()"
   ]
  },
  {
   "cell_type": "markdown",
   "metadata": {},
   "source": [
    "## 2 New Customer Revenue e.g. new customers not present in previous year only"
   ]
  },
  {
   "cell_type": "code",
   "execution_count": 5,
   "metadata": {},
   "outputs": [],
   "source": [
    "\"\"\"New Customer Revenue e.g. new customers not present in previous year only\"\"\"\n",
    "y = df.groupby('year')\n",
    "y15 = y.get_group(2015)\n",
    "y16 = y.get_group(2016)\n",
    "y17 = y.get_group(2017)"
   ]
  },
  {
   "cell_type": "code",
   "execution_count": 6,
   "metadata": {},
   "outputs": [],
   "source": [
    "\"\"\"To find new customers the only thing i have to do is to find the customers of year x+1 which are not in year x\"\"\"\n",
    "\n",
    "# new customers revenues\n",
    "def find_new_cus_rev(left, right, on, how, keep):\n",
    "\n",
    "    new_df = pd.merge(left, right, on=on, how=how, indicator=True)\n",
    "\n",
    "    new_df = new_df[new_df['_merge']==keep]\n",
    "    return new_df"
   ]
  },
  {
   "cell_type": "code",
   "execution_count": 7,
   "metadata": {},
   "outputs": [],
   "source": [
    "new_customers_2015= find_new_cus_rev(y15,y16,'customer_email', 'left', 'left_only') #all customers\n",
    "new_customers_2016= find_new_cus_rev(y15,y16,'customer_email', 'right', 'right_only')\n",
    "new_customers_2017= find_new_cus_rev(y16,y17,'customer_email', 'right', 'right_only')"
   ]
  },
  {
   "cell_type": "code",
   "execution_count": 8,
   "metadata": {},
   "outputs": [
    {
     "name": "stdout",
     "output_type": "stream",
     "text": [
      "Revenue of new customers in 2015 = 21571632.070000004\n",
      "Revenue of new customers in 2016 = 18245491.01\n",
      "Revenue of new customers in 2017 = 28776235.039999995\n"
     ]
    }
   ],
   "source": [
    "print(f\"Revenue of new customers in 2015 = {new_customers_2015.net_revenue_x.sum()}\")\n",
    "print(f\"Revenue of new customers in 2016 = {new_customers_2016.net_revenue_y.sum()}\")\n",
    "print(f\"Revenue of new customers in 2017 = {new_customers_2017.net_revenue_y.sum()}\")"
   ]
  },
  {
   "cell_type": "code",
   "execution_count": 9,
   "metadata": {},
   "outputs": [
    {
     "data": {
      "image/png": "[encoded data removed]",
      "text/plain": [
       "<Figure size 576x360 with 1 Axes>"
      ]
     },
     "metadata": {
      "needs_background": "light"
     },
     "output_type": "display_data"
    }
   ],
   "source": [
    "l = [new_customers_2015.net_revenue_x.sum(), new_customers_2016.net_revenue_y.sum(),new_customers_2017.net_revenue_y.sum() ]\n",
    "plt.figure(figsize=[8,5])\n",
    "plt.scatter([2015,2016,2017], l)\n",
    "plt.plot([2015,2016,2017], l)\n",
    "plt.xticks([2015,2016,2017])\n",
    "plt.xlabel(\"Year\")\n",
    "plt.ylabel(\"Revenue\")\n",
    "plt.title(\"New Customers revenue each year\")\n",
    "plt.show()"
   ]
  },
  {
   "cell_type": "markdown",
   "metadata": {},
   "source": [
    "## 3\tExisting Customer Growth "
   ]
  },
  {
   "cell_type": "code",
   "execution_count": 10,
   "metadata": {},
   "outputs": [],
   "source": [
    "\"\"\" Find existing customer for each year  --> merge\"\"\"\n",
    "d1516 = find_new_cus_rev(y15,y16,'customer_email', 'inner', 'both')\n",
    "d1617 = find_new_cus_rev(y16,y17,'customer_email', 'inner', 'both')"
   ]
  },
  {
   "cell_type": "code",
   "execution_count": 11,
   "metadata": {},
   "outputs": [
    {
     "name": "stdout",
     "output_type": "stream",
     "text": [
      "Year 15->16 = 20335.459999999985\n",
      "Year 16->17 = 20611.340000000004\n"
     ]
    }
   ],
   "source": [
    "# Existing Customer Growth per customer\n",
    "ECG15_16 = d1516['net_revenue_y'] - d1516['net_revenue_x']\n",
    "ECG16_17 = d1617['net_revenue_y'] - d1617['net_revenue_x']\n",
    "\n",
    "# Existing Customer Growth total\n",
    "print(f\"Year 15->16 = {np.sum(ECG15_16)}\")\n",
    "print(f\"Year 16->17 = {np.sum(ECG16_17)}\")"
   ]
  },
  {
   "cell_type": "markdown",
   "metadata": {},
   "source": [
    "## 4 Revenue lost from attrition "
   ]
  },
  {
   "cell_type": "code",
   "execution_count": 12,
   "metadata": {},
   "outputs": [
    {
     "name": "stdout",
     "output_type": "stream",
     "text": [
      "Revenue Attrition rate 2016 = 0.19\n"
     ]
    }
   ],
   "source": [
    "#Year 2016\n",
    "customersleftafter2016 = find_new_cus_rev(y16,y17,'customer_email', 'left', 'left_only')\n",
    "customerscamein2016 = find_new_cus_rev(y15,y16,'customer_email', 'right', 'right_only')\n",
    "net_decline_in_reoccurring_revenue = customersleftafter2016['net_revenue_x'].sum() - customerscamein2016['net_revenue_y'].sum()\n",
    "revenue_attrition_2016 = net_decline_in_reoccurring_revenue/y16['net_revenue'].sum()\n",
    "print(f\"Revenue Attrition rate 2016 = {np.round(revenue_attrition_2016,2)}\")"
   ]
  },
  {
   "cell_type": "markdown",
   "metadata": {},
   "source": [
    "## 5 Existing Customer Revenue Current Year\n",
    "\n",
    "- I assert that by saying existing customer we mean the customer who still exists in 2017. So inner join 15+17, 16+17"
   ]
  },
  {
   "cell_type": "code",
   "execution_count": 13,
   "metadata": {},
   "outputs": [],
   "source": [
    "existing_customer2015 = find_new_cus_rev(y15,y17,'customer_email', 'right', 'both')\n",
    "existing_customer2016 = find_new_cus_rev(y16,y17,'customer_email', 'right', 'both')"
   ]
  },
  {
   "cell_type": "code",
   "execution_count": 14,
   "metadata": {},
   "outputs": [
    {
     "name": "stdout",
     "output_type": "stream",
     "text": [
      "Existing_customer revenue year 2015 = 868493.65\n",
      "Existing_customer revenue year 2016 = 2620648.65\n",
      "Existing_customer revenue year 2017 = 764387.7300000001\n"
     ]
    }
   ],
   "source": [
    "print(f\"Existing_customer revenue year 2015 = {existing_customer2015['net_revenue_x'].sum()}\")\n",
    "print(f\"Existing_customer revenue year 2016 = {existing_customer2016['net_revenue_x'].sum()}\")\n",
    "d = pd.merge(existing_customer2015,existing_customer2016, on='customer_email', how='inner' )\n",
    "print(f\"Existing_customer revenue year 2017 = {d['net_revenue_y_y'].sum()}\")"
   ]
  },
  {
   "cell_type": "code",
   "execution_count": 15,
   "metadata": {},
   "outputs": [
    {
     "data": {
      "image/png": "[encoded data removed]",
      "text/plain": [
       "<Figure size 432x288 with 1 Axes>"
      ]
     },
     "metadata": {
      "needs_background": "light"
     },
     "output_type": "display_data"
    }
   ],
   "source": [
    "b = [existing_customer2015['net_revenue_x'].sum(), existing_customer2016['net_revenue_x'].sum(), d['net_revenue_y_y'].sum()]\n",
    "plt.bar([2015,2016,2017],b)\n",
    "plt.xticks([2015,2016,2017])\n",
    "plt.xlabel(\"Year\")\n",
    "plt.ylabel(\"Revenue\")\n",
    "plt.title(\"Existing Customers revenue\")\n",
    "plt.show()"
   ]
  },
  {
   "cell_type": "markdown",
   "metadata": {},
   "source": [
    "## 6 Existing Customer Revenue Prior Year"
   ]
  },
  {
   "cell_type": "code",
   "execution_count": 16,
   "metadata": {},
   "outputs": [
    {
     "name": "stdout",
     "output_type": "stream",
     "text": [
      "Existing_customer_revenue_prior_of_2016: 7465117.12\n"
     ]
    }
   ],
   "source": [
    "Existing_customer_revenue_prior_of_2016 = find_new_cus_rev(y15,y16,'customer_email', 'right', 'both')\n",
    "\n",
    "print(f\"Existing_customer_revenue_prior_of_2016: {Existing_customer_revenue_prior_of_2016['net_revenue_x'].sum()}\")"
   ]
  },
  {
   "cell_type": "code",
   "execution_count": 17,
   "metadata": {},
   "outputs": [
    {
     "name": "stdout",
     "output_type": "stream",
     "text": [
      "Existing_customer_revenue_prior_of_2017: 2620648.65\n"
     ]
    }
   ],
   "source": [
    "Existing_customer_revenue_prior_of_2017 = find_new_cus_rev(y16,y17,'customer_email', 'right', 'both')\n",
    "\n",
    "print(f\"Existing_customer_revenue_prior_of_2017: {Existing_customer_revenue_prior_of_2017['net_revenue_x'].sum()}\")"
   ]
  },
  {
   "cell_type": "markdown",
   "metadata": {},
   "source": [
    "## 7 Total Customers Current Year"
   ]
  },
  {
   "cell_type": "code",
   "execution_count": 18,
   "metadata": {},
   "outputs": [
    {
     "name": "stdout",
     "output_type": "stream",
     "text": [
      "Total Customers in year 2015 = 231294\n",
      "Total Customers in year 2016 = 204646\n",
      "Total Customers in year 2017 = 249987\n"
     ]
    }
   ],
   "source": [
    "for year, data in zip([2015,2016,2017], [y15,y16,y17]):\n",
    "    print(f\"Total Customers in year {year} = {np.unique(data['customer_email']).shape[0]}\")"
   ]
  },
  {
   "cell_type": "markdown",
   "metadata": {},
   "source": [
    "## 8 Total Customers Previous Year"
   ]
  },
  {
   "cell_type": "code",
   "execution_count": 19,
   "metadata": {},
   "outputs": [
    {
     "name": "stdout",
     "output_type": "stream",
     "text": [
      "Total customers from previous years can be also seen in paragraph 7\n",
      "So now we will see the total difference in customers in each year\n",
      "\n",
      "Total Customers' difference from 2015 to 2016 = -26648\n",
      "Total Customers' difference from 2016 to 2017 = 45341\n"
     ]
    }
   ],
   "source": [
    "print(\"Total customers from previous years can be also seen in paragraph 7\")\n",
    "print(\"So now we will see the total difference in customers in each year\\n\")\n",
    "\n",
    "print(f\"Total Customers' difference from 2015 to 2016 = {np.unique(y16['customer_email']).shape[0] - np.unique(y15['customer_email']).shape[0]}\")\n",
    "print(f\"Total Customers' difference from 2016 to 2017 = {np.unique(y17['customer_email']).shape[0] - np.unique(y16['customer_email']).shape[0]}\")"
   ]
  },
  {
   "cell_type": "markdown",
   "metadata": {},
   "source": [
    "## 9 New Customers"
   ]
  },
  {
   "cell_type": "code",
   "execution_count": 20,
   "metadata": {},
   "outputs": [
    {
     "name": "stdout",
     "output_type": "stream",
     "text": [
      "New customers from 2015 to 2016 = 145062\n",
      "New customers from 2016 to 2017 = 229028\n",
      "New customers from 2015 to 2017 = 243059\n"
     ]
    }
   ],
   "source": [
    "print(f\"New customers from 2015 to 2016 = {np.unique(new_customers_2016['customer_email']).shape[0]}\")\n",
    "print(f\"New customers from 2016 to 2017 = {np.unique(new_customers_2017['customer_email']).shape[0]}\")\n",
    "\n",
    "new_customers_2015_17= find_new_cus_rev(y15,y17,'customer_email', 'right', 'right_only')\n",
    "print(f\"New customers from 2015 to 2017 = {np.unique(new_customers_2015_17['customer_email']).shape[0]}\")\n"
   ]
  },
  {
   "cell_type": "markdown",
   "metadata": {},
   "source": [
    "## 10 Lost Customers"
   ]
  },
  {
   "cell_type": "code",
   "execution_count": 21,
   "metadata": {},
   "outputs": [
    {
     "name": "stdout",
     "output_type": "stream",
     "text": [
      "Lost customers from year 2015 to 2016 = 171710\n",
      "Lost customers from year 2016 to 2017 = 183687\n",
      "Lost customers from year 2015 to 2017 = 224366\n"
     ]
    }
   ],
   "source": [
    "lost_customers_from_2015 = find_new_cus_rev(y15,y16,'customer_email', 'left', 'left_only')\n",
    "lost_customers_from_2016 = find_new_cus_rev(y16,y17,'customer_email', 'left', 'left_only')\n",
    "lost_customers_from_2015_17 = find_new_cus_rev(y15,y17,'customer_email', 'left', 'left_only')\n",
    "print(f\"Lost customers from year 2015 to 2016 = {np.unique(lost_customers_from_2015['customer_email']).shape[0]}\")\n",
    "print(f\"Lost customers from year 2016 to 2017 = {np.unique(lost_customers_from_2016['customer_email']).shape[0]}\")\n",
    "print(f\"Lost customers from year 2015 to 2017 = {np.unique(lost_customers_from_2015_17['customer_email']).shape[0]}\")"
   ]
  },
  {
   "cell_type": "code",
   "execution_count": 23,
   "metadata": {},
   "outputs": [
    {
     "data": {
      "image/png": "[encoded data removed]",
      "text/plain": [
       "<Figure size 432x288 with 1 Axes>"
      ]
     },
     "metadata": {
      "needs_background": "light"
     },
     "output_type": "display_data"
    },
    {
     "name": "stdout",
     "output_type": "stream",
     "text": [
      "New Customers are more that lost customers although there is an increasing trend in both\n"
     ]
    }
   ],
   "source": [
    "lost = [171710,183687,224366]\n",
    "new = [145062,229028, 243059]\n",
    "plt.plot([2015,2016,2017],lost , label='Lost Customers', color='red')\n",
    "plt.plot([2015,2016,2017],new , label='New Customers', color='green')\n",
    "plt.xticks([2015,2016,2017])\n",
    "plt.xlabel(\"Year\")\n",
    "plt.ylabel(\"Number of Unique Customers\")\n",
    "plt.title(\"Lost vs New Customers trade off\")\n",
    "plt.legend()\n",
    "plt.show()\n",
    "\n",
    "print(\"New Customers are more that lost customers although there is an increasing trend in both\")"
   ]
  },
  {
   "cell_type": "code",
   "execution_count": 187,
   "metadata": {},
   "outputs": [
    {
     "name": "stderr",
     "output_type": "stream",
     "text": [
      "[NbConvertApp] Converting notebook Case-Study_2_NG.ipynb to html\n",
      "[NbConvertApp] Writing 574002 bytes to Case-Study_2_NG.html\n"
     ]
    }
   ],
   "source": [
    "!jupyter nbconvert Case-Study_2_NG.ipynb --no-input --to html"
   ]
  }
 ],
 "metadata": {
  "interpreter": {
   "hash": "afb734500600fd355917ca529030176ea0ca205570884b88f2f6f7d791fd3fbe"
  },
  "kernelspec": {
   "display_name": "Python 3.10.4 64-bit",
   "language": "python",
   "name": "python3"
  },
  "language_info": {
   "codemirror_mode": {
    "name": "ipython",
    "version": 3
   },
   "file_extension": ".py",
   "mimetype": "text/x-python",
   "name": "python",
   "nbconvert_exporter": "python",
   "pygments_lexer": "ipython3",
   "version": "3.10.4"
  },
  "orig_nbformat": 4
 },
 "nbformat": 4,
 "nbformat_minor": 2
}
